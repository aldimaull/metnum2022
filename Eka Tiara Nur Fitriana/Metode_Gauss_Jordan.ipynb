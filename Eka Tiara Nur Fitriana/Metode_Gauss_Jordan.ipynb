{
  "nbformat": 4,
  "nbformat_minor": 0,
  "metadata": {
    "colab": {
      "provenance": []
    },
    "kernelspec": {
      "name": "python3",
      "display_name": "Python 3"
    },
    "language_info": {
      "name": "python"
    }
  },
  "cells": [
    {
      "cell_type": "markdown",
      "source": [
        "Eka Tiara Nur Fitriana_2002859_KOM 5A\n",
        "\n",
        "Eksplorasi pembuatan kode program untuk metode gauss jordan"
      ],
      "metadata": {
        "id": "qk-QgBKlcIdY"
      }
    },
    {
      "cell_type": "code",
      "execution_count": 9,
      "metadata": {
        "colab": {
          "base_uri": "https://localhost:8080/"
        },
        "id": "0ppXQ-xqUQlU",
        "outputId": "22568502-786a-4f47-e01f-1f0f284bda2d"
      },
      "outputs": [
        {
          "output_type": "stream",
          "name": "stdout",
          "text": [
            "Masukan ordo matriks: 2\n",
            "Masukkan Koefisien Matriks Augmented:\n",
            "a[0][0]=1\n",
            "a[0][1]=2\n",
            "a[0][2]=3\n",
            "a[1][0]=4\n",
            "a[1][1]=5\n",
            "a[1][2]=6\n",
            "\n",
            "Required solution is: \n",
            "X0 = -1.00\tX1 = 2.00\t"
          ]
        }
      ],
      "source": [
        "# Metode Gauss Jordan\n",
        "# Importing NumPy Library\n",
        "import numpy as np\n",
        "import sys\n",
        "\n",
        "# Memasukan matriks\n",
        "n = int(input('Masukan ordo matriks: '))\n",
        "\n",
        "# Membuat array numpy dengan ukuran nxn+1 dan menginisialisasi\n",
        "# ke nol untuk menyimpan matriks yang diperbesar\n",
        "a = np.zeros((n,n+1))\n",
        "\n",
        "# Membuat array numpy dengan ukuran n dan menginisialisasi\n",
        "# ke nol untuk menyimpan vektor solusi\n",
        "x = np.zeros(n)\n",
        "\n",
        "# Membaca koefisien matriks yang diperbesar\n",
        "print('Masukkan Koefisien Matriks Augmented:')\n",
        "for i in range(n):\n",
        "    for j in range(n+1):\n",
        "        a[i][j] = float(input( 'a['+str(i)+']['+ str(j)+']='))\n",
        "\n",
        "# Mengaplikasikan Gauss Jordan Elimination\n",
        "for i in range(n):\n",
        "    if a[i][i] == 0.0:\n",
        "        sys.exit('Divide by zero detected!')\n",
        "        \n",
        "    for j in range(n):\n",
        "        if i != j:\n",
        "            ratio = a[j][i]/a[i][i]\n",
        "\n",
        "            for k in range(n+1):\n",
        "                a[j][k] = a[j][k] - ratio * a[i][k]\n",
        "\n",
        "# Memperoleh Solusi\n",
        "\n",
        "for i in range(n):\n",
        "    x[i] = a[i][n]/a[i][i]\n",
        "\n",
        "# Menampilkan Solusi\n",
        "print('\\nRequired solution is: ')\n",
        "for i in range(n):\n",
        "    print('X%d = %0.2f' %(i,x[i]), end = '\\t')"
      ]
    }
  ]
}