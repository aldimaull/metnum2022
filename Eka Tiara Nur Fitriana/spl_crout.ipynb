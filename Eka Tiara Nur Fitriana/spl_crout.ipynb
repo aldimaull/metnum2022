{
  "nbformat": 4,
  "nbformat_minor": 0,
  "metadata": {
    "colab": {
      "provenance": []
    },
    "kernelspec": {
      "name": "python3",
      "display_name": "Python 3"
    },
    "language_info": {
      "name": "python"
    }
  },
  "cells": [
    {
      "cell_type": "markdown",
      "source": [
        "Eka Tiara Nur Fitriana_2002859_KOM 5A\n",
        "\n",
        "Eksplorasi pembuatan kode program untuk metode Crout"
      ],
      "metadata": {
        "id": "lJmqkMku96WM"
      }
    },
    {
      "cell_type": "code",
      "execution_count": null,
      "metadata": {
        "id": "YCXqvfm59wxS"
      },
      "outputs": [],
      "source": [
        "import numpy as np\n",
        "\n",
        "def showMatrix(matrix):\n",
        "    n = len(matrix)\n",
        "    for i in range (n):\n",
        "        for j in range(n):\n",
        "            print('%.2f' % matrix[i][j], end='\\t')\n",
        "        print(\"\")\n",
        "\n",
        "A = np.array([[1,2,1],[-2,3,5],[6,2,-1]],dtype=float)\n",
        "print(\"Matriks A: \",); showMatrix(A)\n",
        "\n",
        "U = np.copy(A)\n",
        "print(\"\\nMatriks UA: \",); showMatrix(U)\n",
        "\n",
        "U[1,:] += 2 * U[0,:]\n",
        "print(\"U: \"); showMatrix(U)\n",
        "\n",
        "E1 = np.identity(3)"
      ]
    }
  ]
}