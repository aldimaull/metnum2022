{
  "nbformat": 4,
  "nbformat_minor": 0,
  "metadata": {
    "colab": {
      "provenance": []
    },
    "kernelspec": {
      "name": "python3",
      "display_name": "Python 3"
    },
    "language_info": {
      "name": "python"
    }
  },
  "cells": [
    {
      "cell_type": "markdown",
      "source": [
        "Eka Tiara Nur Fitriana_2002859_KOM 5A\n",
        "\n",
        "Eksplorasi pembuatan kode program untuk metode Crout"
      ],
      "metadata": {
        "id": "lJmqkMku96WM"
      }
    },
    {
      "cell_type": "code",
      "execution_count": null,
      "metadata": {
        "id": "YCXqvfm59wxS"
      },
      "outputs": [],
      "source": [
        "import numpy as np\n",
        "\n",
        "def showMatrix(matrix):\n",
        "    n = len(matrix)\n",
        "    for i in range (n):\n",
        "        for j in range(n):\n",
        "            print('%.2f' % matrix[i][j], end='\\t')\n",
        "        print(\"\")\n",
        "\n",
        "A = np.array([[1,2,1],[-2,3,5],[6,2,-1]],dtype=float)\n",
        "print(\"Matriks A: \",); showMatrix(A)\n",
        "\n",
        "U = np.copy(A)\n",
        "print(\"\\nMatriks UA: \",); showMatrix(U)\n",
        "\n",
        "U[1,:] += 2 * U[0,:]\n",
        "print(\"U: \"); showMatrix(U)\n",
        "\n",
        "E1 = np.identity(3)"
      ]
    },
    {
      "cell_type": "code",
      "source": [
        "import numpy as np\n",
        "\n",
        "def crout(A):\n",
        "    L = np.zeros((3, 3))\n",
        "    U = np.zeros((3, 3))\n",
        "    \n",
        "    for k in range(0, 3):\n",
        "        U[k, k] = 1 \n",
        "\n",
        "        for j in range(k, 3):\n",
        "            sum0 = sum([L[j, s] * U[s, k] for s in range(0, j)]) #range from index 0\n",
        "            L[j, k] = A[j, k] - sum0 #reversed index\n",
        "            print(f\"{j}. \",L)\n",
        "            print(\"\")\n",
        "\n",
        "        for j in range(k+1, 3):\n",
        "            sum1 = sum([L[k, s] * U[s, j] for s in range(0, k)]) #range from index 0\n",
        "            U[k, j] = (A[k, j] - sum1) / L[k, k]\n",
        "            print(f\"{j}. \",U)\n",
        "            print(\"\")\n",
        "    print(L)\n",
        "    print(U)\n",
        "    return L, U\n",
        "\n",
        "A = np.array([[60.0, 30.0, 20.0], [30.0, 20.0, 15.0], [20.0, 15.0, 12.0]])\n",
        "print(f\"Matriks A: \\n{A}\")\n",
        "print(\"\\nCrout: \"); crout(A)"
      ],
      "metadata": {
        "id": "yO3HJa2Y-yui"
      },
      "execution_count": null,
      "outputs": []
    }
  ]
}