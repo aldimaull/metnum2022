{
  "nbformat": 4,
  "nbformat_minor": 0,
  "metadata": {
    "colab": {
      "provenance": []
    },
    "kernelspec": {
      "name": "python3",
      "display_name": "Python 3"
    },
    "language_info": {
      "name": "python"
    }
  },
  "cells": [
    {
      "cell_type": "markdown",
      "source": [
        "\n",
        "Eka Tiara Nur Fitriana_2002859_KOM 5A\n",
        "\n",
        "Eksplorasi pembuatan kode program untuk akar persamaan metode bagi dua"
      ],
      "metadata": {
        "id": "LVCr0TNqAJmS"
      }
    },
    {
      "cell_type": "code",
      "execution_count": null,
      "metadata": {
        "id": "awZ-cL6GACjL"
      },
      "outputs": [],
      "source": [
        "# Fungsinya\n",
        "f = lambda x: x**2-6*x+8\n",
        "\n",
        "# Metode Bagi Dua\n",
        "def bisection(a,b,e):  \n",
        "    condition = True\n",
        "    while condition:\n",
        "        \n",
        "        c = (a + b)/2  # c = (a+b)/2\n",
        "\n",
        "        if f(a) * f(c) < 0:\n",
        "            b = c\n",
        "        else:\n",
        "            a = c\n",
        "\n",
        "        condition = abs(f(c)) > e\n",
        "\n",
        "    print('\\nAkarnya yaitu: %0.8f' % c)\n",
        "\n",
        "a = float(input('Masukan Nilai a: '))\n",
        "b = float(input('Masukan Nilai b: '))\n",
        "e = float(input('Masukan Nilai Galat: '))\n",
        "\n",
        "if f(a) * f(b) > 0.0:\n",
        "    print('Tidak terdapat akar pada range ini')\n",
        "else:\n",
        "    bisection(a,b,e)"
      ]
    }
  ]
}