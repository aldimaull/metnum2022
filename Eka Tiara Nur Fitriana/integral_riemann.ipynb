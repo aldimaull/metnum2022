{
  "nbformat": 4,
  "nbformat_minor": 0,
  "metadata": {
    "colab": {
      "provenance": []
    },
    "kernelspec": {
      "name": "python3",
      "display_name": "Python 3"
    },
    "language_info": {
      "name": "python"
    }
  },
  "cells": [
    {
      "cell_type": "markdown",
      "source": [
        "\n",
        "Eka Tiara Nur Fitriana_2002859_KOM 5A\n",
        "\n",
        "Eksplorasi pembuatan kode program untuk Integral Riemann"
      ],
      "metadata": {
        "id": "LVCr0TNqAJmS"
      }
    },
    {
      "cell_type": "code",
      "execution_count": null,
      "metadata": {
        "id": "awZ-cL6GACjL"
      },
      "outputs": [],
      "source": [
        "import numpy as np\n",
        "import matplotlib.pyplot as plt\n",
        "def func(x):\n",
        "    return (x**2) * np.exp(-x)\n",
        "\n",
        "a = 1.0\n",
        "b = 10.0\n",
        "n = 50\n",
        "\n",
        "x = np.linspace(a, b, n)\n",
        "dx = (x[-1]-x[0])/(n-1)\n",
        "\n",
        "hasil = 0\n",
        "for i in range(n-1):\n",
        "    hasil += dx * func(x[i])\n",
        "\n",
        "print(\"Hasil Integral = \", hasil)\n",
        "\n",
        "xplt = np.linspace(a, b, 50)\n",
        "\n",
        "plt.plot(xplt,func(xplt))\n",
        "for i in range(n-1):\n",
        "    plt.bar(x[i], func(x[i]), align='edge', width=dx, color='gray', edgecolor='r')\n",
        "\n",
        "plt.show()"
      ]
    }
  ]
}