{
  "nbformat": 4,
  "nbformat_minor": 0,
  "metadata": {
    "colab": {
      "provenance": []
    },
    "kernelspec": {
      "name": "python3",
      "display_name": "Python 3"
    },
    "language_info": {
      "name": "python"
    }
  },
  "cells": [
    {
      "cell_type": "markdown",
      "source": [
        "NOMOR 3 Eka Tiara Nur Fitriana_2002859_KOM 5A\n",
        "\n",
        "Eksplorasi pembuatan kode program untuk metode Newton Raphson\n"
      ],
      "metadata": {
        "id": "zJY_6-MLFDxl"
      }
    },
    {
      "cell_type": "code",
      "execution_count": 3,
      "metadata": {
        "colab": {
          "base_uri": "https://localhost:8080/"
        },
        "id": "N8BQylRFv2FA",
        "outputId": "6a6da408-6683-4bbd-cc0d-3085773e6cd5"
      },
      "outputs": [
        {
          "output_type": "stream",
          "name": "stdout",
          "text": [
            "f(x0) = x^2 - 2x - 8\n",
            "x0 = 4.125\n",
            "Akar fungsi = 4.000\n"
          ]
        }
      ],
      "source": [
        "import numpy as np\n",
        "\n",
        "#Mulai\n",
        "\n",
        "#Inisialisasi fungsi untuk menghitung f(xn), f'(xn), xn, dan tol=toleransi galat menggunakan metode Newton Raphson\n",
        "def nr(f, df, x0, tol):\n",
        "    #jika f(x0) < toleransi galat\n",
        "    if abs(f(x0)) < tol: \n",
        "        #Kembalikan nilai x0\n",
        "        return x0 \n",
        "    # jika f(x0) > toleransi galat    \n",
        "    else:\n",
        "        #Kembalikan nilai f(xn), f'(xn), xn, dan toleransi galat yang baru setelah melalui perhitungan operasi rumus Newton-Raphson\n",
        "        return nr(f, df, x0 - f(x0)/df(x0), tol) \n",
        "\n",
        "#Definisikan f(x)= x^2 - 2x -8\n",
        "f = lambda x: x**2 - 2*x - 8 \n",
        "\n",
        "#Definisikan f'(x)= 2x - 2\n",
        "f_prime = lambda x: 2*x - 2 \n",
        "\n",
        "#Rumus Newton Raphson dengan taksiran awal x0 = 5\n",
        "newton_raphson = 5 - (f(5))/(f_prime(5))\n",
        "\n",
        "#Cetak fungsi f(x0)\n",
        "print(\"f(x0) = x^2 - 2x - 8\")\n",
        "\n",
        "#Cetak x0\n",
        "print(f\"x0 = {newton_raphson:.3f}\")\n",
        "\n",
        "#Memanggil fungsi nr() dan inisialisasi ke variable akar \n",
        "akar = nr(f, f_prime, 5, 1e-6)\n",
        "\n",
        "#Cetak nilai estimasi akar dari f(x0) \n",
        "print(f\"Akar fungsi = {akar:.3f}\")\n",
        "\n",
        "#Selesai "
      ]
    }
  ]
}
