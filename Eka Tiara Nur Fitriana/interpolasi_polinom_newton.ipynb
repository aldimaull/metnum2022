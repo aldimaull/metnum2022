{
  "nbformat": 4,
  "nbformat_minor": 0,
  "metadata": {
    "colab": {
      "provenance": []
    },
    "kernelspec": {
      "name": "python3",
      "display_name": "Python 3"
    },
    "language_info": {
      "name": "python"
    }
  },
  "cells": [
    {
      "cell_type": "markdown",
      "source": [
        "\n",
        "Eka Tiara Nur Fitriana_2002859_KOM 5A\n",
        "\n",
        "Eksplorasi pembuatan kode program untuk Interpolasi Polinom Newton"
      ],
      "metadata": {
        "id": "LVCr0TNqAJmS"
      }
    },
    {
      "cell_type": "code",
      "execution_count": null,
      "metadata": {
        "id": "awZ-cL6GACjL"
      },
      "outputs": [],
      "source": [
        "import numpy as np\n",
        "import matplotlib.pyplot as plt\n",
        "\n",
        "x = np.array([0, 0.4, 0.8], float)\n",
        "y = np.array([1, 0.921061, 0.696707], float)\n",
        "\n",
        "xInput = 0.5\n",
        "\n",
        "n = len(x)-1\n",
        "\n",
        "ST = np.zeros((n+1,n+1))\n",
        "ST[:,0] = y\n",
        "\n",
        "for k in range(1, n+1):\n",
        "    for i in range(0, n-k+1):\n",
        "        ST[i,k] = (ST[i+1, k-1] - ST[i, k-1])/(x[i+k]-x[i])\n",
        "\n",
        "p = ST[0,0]\n",
        "for i in range(1,n+1):\n",
        "    a = ST[0,i]\n",
        "\n",
        "    for k in range(0,i):\n",
        "        a = a * (xInput - x[k])\n",
        "    p += a\n",
        "\n",
        "xplt = np.linspace(x[0],x[-1])\n",
        "\n",
        "plt.plot(x, y, \"o\")\n",
        "plt.xlabel('x')\n",
        "plt.ylabel('y')\n",
        "plt.grid()\n",
        "plt.show()"
      ]
    }
  ]
}