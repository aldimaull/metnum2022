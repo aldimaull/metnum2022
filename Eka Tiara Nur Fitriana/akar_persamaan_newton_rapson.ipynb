{
  "nbformat": 4,
  "nbformat_minor": 0,
  "metadata": {
    "colab": {
      "provenance": []
    },
    "kernelspec": {
      "name": "python3",
      "display_name": "Python 3"
    },
    "language_info": {
      "name": "python"
    }
  },
  "cells": [
    {
      "cell_type": "markdown",
      "source": [
        "\n",
        "Eka Tiara Nur Fitriana_2002859_KOM 5A\n",
        "\n",
        "Eksplorasi pembuatan kode program untuk akar persamaan metode newton rapson"
      ],
      "metadata": {
        "id": "LVCr0TNqAJmS"
      }
    },
    {
      "cell_type": "code",
      "execution_count": null,
      "metadata": {
        "id": "awZ-cL6GACjL"
      },
      "outputs": [],
      "source": [
        "def nr(f, df, x0, tol):\n",
        "    # keluaran merupakan estimasi dari akar fungsi f\n",
        "    # menggunakan metode Newton-Raphson secara rekursif\n",
        "    if abs(f(x0)) < tol: # jika f(x0) kurang dari toleransi galat\n",
        "        return x0 # kembalikan nilai x0\n",
        "    else: # jika f(x0) lebih dari toleransi galat\n",
        "        return nr(f, df, x0 - f(x0)/df(x0), tol) # kembalikan nilai x0 dengan operasi rumus Newton-Raphson\n",
        "\n",
        "f = lambda x: x**2 - 3*x - 108 # fungsi f(x) = x^2 - 2x -8\n",
        "f_prime = lambda x: 2*x - 2 # turunan fungsi f(x) = 2x - 2\n",
        "newton_raphson = 2 - (f(2))/(f_prime(2)) # rumus Newton-Raphson dengan taksiran awal x0 = 5\n",
        "\n",
        "print(\"f(x0) = x^2 - 2x - 8\"); # cetak fungsi f(x0)\n",
        "print(f\"x0 = {newton_raphson:.3f}\") # cetak x0\n",
        "akar = nr(f, f_prime, 2, 1e-6) # memanggil fungsi nr() dan inisialisasi ke variable akar\n",
        "print(f\"Akar fungsi = {akar:.3f}\") # cetak nilai estimasi akar dari f(x0)"
      ]
    }
  ]
}