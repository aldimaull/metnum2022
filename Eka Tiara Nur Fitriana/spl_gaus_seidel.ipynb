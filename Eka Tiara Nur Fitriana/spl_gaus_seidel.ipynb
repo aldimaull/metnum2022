{
  "nbformat": 4,
  "nbformat_minor": 0,
  "metadata": {
    "colab": {
      "provenance": []
    },
    "kernelspec": {
      "name": "python3",
      "display_name": "Python 3"
    },
    "language_info": {
      "name": "python"
    }
  },
  "cells": [
    {
      "cell_type": "markdown",
      "source": [
        "Eka Tiara Nur Fitriana_2002859_KOM 5A\n",
        "\n",
        "Eksplorasi pembuatan kode program untuk metode Gauss Seidel "
      ],
      "metadata": {
        "id": "lJmqkMku96WM"
      }
    },
    {
      "cell_type": "code",
      "execution_count": null,
      "metadata": {
        "id": "YCXqvfm59wxS"
      },
      "outputs": [],
      "source": [
        "f1 = lambda a, b, c, d, e: (5 + 2 * b + c) / 8\n",
        "f2 = lambda a, b, c, d, e: (2 + 2 * a + 4 * c + d) / 9\n",
        "f3 = lambda a, b, c, d, e: (a + 3 * b + d + 2 * e) / 7\n",
        "f4 = lambda a, b, c, d, e: (1 + 4 * b + 2 * c + 5 * e) / 12\n",
        "f5 = lambda a, b, c, d, e: (5 + 7 * c + 3 * d) / 15\n",
        "\n",
        "a0 = 0\n",
        "b0 = 0\n",
        "c0 = 0\n",
        "d0 = 0\n",
        "e0 = 0\n",
        "\n",
        "count = 1\n",
        "\n",
        "# Galat \n",
        "eps = 0.0001\n",
        "\n",
        "print('\\nHitung\\ta\\tb\\tc\\td\\te\\n')\n",
        "\n",
        "condition = True\n",
        "\n",
        "while condition:\n",
        "    a1 = f1(a0, b0, c0, d0, e0)\n",
        "    b1 = f2(a1, b0, c0, d0, e0)\n",
        "    c1 = f3(a1, b1, c0, d0, e0)\n",
        "    d1 = f4(a1, b1, c1, d0, e0)\n",
        "    e1 = f4(a1, b1, c1, d1, e0)\n",
        "\n",
        "    print('%d\\t%0.4f\\t%0.4f\\t%0.4f\\t%0.4f\\t%0.4f\\n' % (count, a1, b1, c1, d1, e1))\n",
        "    ep1 = abs(a0 - a1)\n",
        "    ep2 = abs(b0 - b1)\n",
        "    ep3 = abs(c0 - c1)\n",
        "    ep4 = abs(d0 - d1)\n",
        "    ep5 = abs(e0 - e1)\n",
        "\n",
        "    count += 1\n",
        "    a0 = a1\n",
        "    b0 = b1\n",
        "    c0 = c1\n",
        "    d0 = d1\n",
        "    e0 = e1\n",
        "\n",
        "    condition = ep1 > eps and ep2 > eps and ep3 > eps and ep4 > eps and ep5 > eps\n",
        "\n",
        "print('\\nSolusi: a=%0.4f, b=%0.4f, c=%0.4f, d=%0.4f and eps = %0.4f\\n' % (a1, b1, c1, d1, e1))"
      ]
    }
  ]
}