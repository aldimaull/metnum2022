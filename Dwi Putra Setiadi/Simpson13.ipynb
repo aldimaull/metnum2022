{
  "metadata": {
    "language_info": {
      "codemirror_mode": {
        "name": "python",
        "version": 3
      },
      "file_extension": ".py",
      "mimetype": "text/x-python",
      "name": "python",
      "nbconvert_exporter": "python",
      "pygments_lexer": "ipython3",
      "version": "3.8"
    },
    "kernelspec": {
      "name": "python",
      "display_name": "Python (Pyodide)",
      "language": "python"
    }
  },
  "nbformat_minor": 4,
  "nbformat": 4,
  "cells": [
    {
      "cell_type": "code",
      "source": "\n# Define function to integrate\ndef f(x):\n    return 1/(1 + x**2)\n\n# Implementing Simpson's 1/3 \ndef simpson13(x0,xn,n):\n    # calculating step size\n    h = (xn - x0) / n\n    \n    # Finding sum \n    integration = f(x0) + f(xn)\n    \n    for i in range(1,n):\n        k = x0 + i*h\n        \n        if i%2 == 0:\n            integration = integration + 2 * f(k)\n        else:\n            integration = integration + 4 * f(k)\n    \n    # Finding final integration value\n    integration = integration * h/3\n    \n    return integration\n    \n# Input section\nlower_limit = float(input(\"Masukan Batas Bawah Integral: \"))\nupper_limit = float(input(\"Masukan Batas Atas Integral: \"))\nsub_interval = int(input(\"Masukkan jumlah sub interval: \"))\n\n# Call trapezoidal() method and get result\nresult = simpson13(lower_limit, upper_limit, sub_interval)\nprint(\"Hasil integral simpson 1/3 adalah: %0.6f\" % (result) )",
      "metadata": {},
      "execution_count": null,
      "outputs": []
    },
    {
      "cell_type": "code",
      "source": "Masukan Batas Bawah Integral: 0\nMasukan Batas Atas Integral: 1\nMasukkan jumlah sub interval: 6\nHasil integral simpson 1/3 adalah: 0.785398\n",
      "metadata": {},
      "execution_count": null,
      "outputs": []
    }
  ]
}