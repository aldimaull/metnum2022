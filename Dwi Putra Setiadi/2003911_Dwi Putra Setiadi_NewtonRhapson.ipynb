{
  "metadata": {
    "language_info": {
      "codemirror_mode": {
        "name": "python",
        "version": 3
      },
      "file_extension": ".py",
      "mimetype": "text/x-python",
      "name": "python",
      "nbconvert_exporter": "python",
      "pygments_lexer": "ipython3",
      "version": "3.8"
    },
    "kernelspec": {
      "name": "python",
      "display_name": "Python (Pyodide)",
      "language": "python"
    }
  },
  "nbformat_minor": 4,
  "nbformat": 4,
  "cells": [
    {
      "cell_type": "code",
      "source": "# DWi Putra Setiadi\n#2003911\nimport numpy as np #library untuk proses komputasi numerik\n\ndef my_newton(f, df, x0, tol):#pendeklarasian variable untuk fungsi,turunan fungsi f,nilai aproksimasi awal,dan toleransi galat\n\n    if abs(f(x0)) < tol:\n        return x0#kondisi percabangan apabila galat relatif  kurang dari toleransi maka mengembalikan fungsi x0 \n    else:\n        return my_newton(f, df, x0 - f(x0)/df(x0), tol)#jika tidak maka mengembalikan fungsi x0 kedalam rumus newton rhpson\n\nf = lambda x: x**2 - 2*x -8\n# fungsi f(x) = x^2 - 2x -8\n\nf_prime = lambda x: 2*x - 2\n# turunan f(x) = 2x - 2\n\nnewton_raphson = 5 - (f(5))/(f_prime(5))\n#x0 = 5\n\nprint(\"f(x0) = x^2 - 2x - 8\");\n#menampilkan fungsi f(x0)\n\nprint(f\"newton_raphson = {newton_raphson:.3f}\")\n#menampilkan x0\n\nestimate = my_newton(f, f_prime, 5, 1e-6)\nprint(f\"estimate = {estimate:.3f}\")\n#menampilkan nilai estimasi",
      "metadata": {
        "trusted": true
      },
      "execution_count": 4,
      "outputs": [
        {
          "name": "stdout",
          "text": "f(x0) = x^2 - 2x - 8\nnewton_raphson = 4.125\nestimate = 4.000\n",
          "output_type": "stream"
        }
      ]
    }
  ]
}