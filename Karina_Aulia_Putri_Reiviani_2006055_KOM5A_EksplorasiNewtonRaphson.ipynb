{
  "nbformat": 4,
  "nbformat_minor": 0,
  "metadata": {
    "colab": {
      "provenance": []
    },
    "kernelspec": {
      "name": "python3",
      "display_name": "Python 3"
    },
    "language_info": {
      "name": "python"
    }
  },
  "cells": [
    {
      "cell_type": "markdown",
      "source": [
        "Karina Aulia Putri Reiviani_2006055\n",
        "\n",
        "Eksplorasi pembuatan kode program untuk metode Newton Raphson - Nomor 3"
      ],
      "metadata": {
        "id": "xmH2Z3dT7YQL"
      }
    },
    {
      "cell_type": "code",
      "execution_count": 3,
      "metadata": {
        "colab": {
          "base_uri": "https://localhost:8080/"
        },
        "id": "AYBNFytExuKw",
        "outputId": "147c4fcc-5df0-4c1b-ab9e-88d57425a643"
      },
      "outputs": [
        {
          "output_type": "stream",
          "name": "stdout",
          "text": [
            "f(x0) = x^2 - 2x - 8\n",
            "x0 = 4.125\n",
            "Akar fungsi = 4.000\n"
          ]
        }
      ],
      "source": [
        "import numpy as np #Library\n",
        "\n",
        "#Mulai\n",
        "\n",
        "#Mendeklarasikan variable fungsi untuk menghitung f(xn), f'(xn), xn, dan tol=toleransi galat menggunakan metode Newton Raphson\n",
        "def nr(f, df, x0, tol):\n",
        "\n",
        "    if abs(f(x0)) < tol: #jika f(x0) kurang dari toleransi galat\n",
        "        return x0 #Kembalikan nilai x0   \n",
        "    else: #jika f(x0) lebih dari toleransi galat \n",
        "        return nr(f, df, x0 - f(x0)/df(x0), tol) #Kembalikan nilai x0 melalui operasi rumus Newton-Raphson\n",
        "\n",
        "#Menentukan fungsi f(x)= x^2 - 2x -8\n",
        "f = lambda x: x**2 - 2*x - 8 \n",
        "\n",
        "#Menentukan turunan fungsi f'(x)= 2x - 2\n",
        "f_prime = lambda x: 2*x - 2 \n",
        "\n",
        "#Rumus Newton Raphson dengan taksiran awal x0 = 5\n",
        "newton_raphson = 5 - (f(5))/(f_prime(5))\n",
        "\n",
        "#Cetak fungsi f(x0)\n",
        "print(\"f(x0) = x^2 - 2x - 8\")\n",
        "\n",
        "#Cetak x0\n",
        "print(f\"x0 = {newton_raphson:.3f}\")\n",
        "\n",
        "#Memanggil fungsi nr() dan inisialisasi ke variable akar \n",
        "akar = nr(f, f_prime, 5, 1e-6)\n",
        "\n",
        "#Cetak nilai estimasi akar dari f(x0) \n",
        "print(f\"Akar fungsi = {akar:.3f}\")\n",
        "\n",
        "#Selesai "
      ]
    }
  ]
}