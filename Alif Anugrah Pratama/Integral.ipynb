{
  "nbformat": 4,
  "nbformat_minor": 0,
  "metadata": {
    "colab": {
      "provenance": []
    },
    "kernelspec": {
      "name": "python3",
      "display_name": "Python 3"
    },
    "language_info": {
      "name": "python"
    }
  },
  "cells": [
    {
      "cell_type": "markdown",
      "source": [
        "Alif Anugerah Pratama\n",
        "\n",
        "Integral"
      ],
      "metadata": {
        "id": "tVwOm2_iovzc"
      }
    },
    {
      "cell_type": "code",
      "execution_count": 1,
      "metadata": {
        "colab": {
          "base_uri": "https://localhost:8080/",
          "height": 282
        },
        "id": "IrOlD7Kooj_M",
        "outputId": "85cfa6a2-a112-4921-e014-9d0965f8f632"
      },
      "outputs": [
        {
          "output_type": "stream",
          "name": "stdout",
          "text": [
            "Hasil Integral =  1.866181309119588\n"
          ]
        },
        {
          "output_type": "display_data",
          "data": {
            "text/plain": [
              "<Figure size 432x288 with 1 Axes>"
            ],
            "image/png": "[encoded data removed]"
          },
          "metadata": {
            "needs_background": "light"
          }
        }
      ],
      "source": [
        "import numpy as np\n",
        "import matplotlib.pyplot as plt\n",
        "def func(x):\n",
        "    return (x**2) * np.exp(-x)\n",
        "\n",
        "a = 1.0\n",
        "b = 10.0\n",
        "n = 50\n",
        "\n",
        "x = np.linspace(a, b, n)\n",
        "dx = (x[-1]-x[0])/(n-1)\n",
        "\n",
        "hasil = 0\n",
        "for i in range(n-1):\n",
        "    hasil += dx * func(x[i])\n",
        "\n",
        "print(\"Hasil Integral = \", hasil)\n",
        "\n",
        "xplt = np.linspace(a, b, 50)\n",
        "\n",
        "plt.plot(xplt,func(xplt))\n",
        "for i in range(n-1):\n",
        "    plt.bar(x[i], func(x[i]), align='edge', width=dx, color='gray', edgecolor='r')\n",
        "\n",
        "plt.show()"
      ]
    }
  ]
}