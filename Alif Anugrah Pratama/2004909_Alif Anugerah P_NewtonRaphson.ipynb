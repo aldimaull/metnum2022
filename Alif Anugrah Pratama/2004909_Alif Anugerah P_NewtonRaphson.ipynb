{
  "metadata": {
    "kernelspec": {
      "name": "python",
      "display_name": "Python (Pyodide)",
      "language": "python"
    },
    "language_info": {
      "codemirror_mode": {
        "name": "python",
        "version": 3
      },
      "file_extension": ".py",
      "mimetype": "text/x-python",
      "name": "python",
      "nbconvert_exporter": "python",
      "pygments_lexer": "ipython3",
      "version": "3.8"
    }
  },
  "nbformat_minor": 5,
  "nbformat": 4,
  "cells": [
    {
      "cell_type": "code",
      "source": "#Alif Anugerah Pratama\n#2004909\n\ndef my_newton(f, df, x0, tol):\n    if abs(f(x0)) < tol:\n        return x0\n    else:\n        return my_newton(f, df, x0 - f(x0)/df(x0), tol)\n\nf = lambda x: x**2 - 2*x -8\n# fungsi f(x) = x^2 - 2x -8\n\nf_prime = lambda x: 2*x - 2\n# turunan f(x) = 2x - 2\n\nnewton_raphson = 5 - (f(5))/(f_prime(5))\n#x0 = 5\n\nprint(\"f(x0) = x^2 - 2x - 8\");\n#menampilkan fungsi f(x0)\n\nprint(f\"newton_raphson = {newton_raphson:.3f}\")\n#menampilkan x0\n\nestimate = my_newton(f, f_prime, 5, 1e-6)\nprint(f\"estimate = {estimate:.3f}\")\n#menampilkan nilai",
      "metadata": {
        "trusted": true
      },
      "execution_count": null,
      "outputs": [],
      "id": "fe55883a-6887-43dd-9498-5333a51799e2"
    },
    {
      "cell_type": "code",
      "source": "f(x0) = x^2 - 2x - 8\nnewton_raphson = 4.125\nestimate = 4.000",
      "metadata": {},
      "execution_count": null,
      "outputs": [],
      "id": "f31ecdf6-5dc7-4047-89ee-7dc79599eaa1"
    }
  ]
}
