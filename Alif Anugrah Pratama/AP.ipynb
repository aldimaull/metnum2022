{
  "nbformat": 4,
  "nbformat_minor": 0,
  "metadata": {
    "colab": {
      "provenance": []
    },
    "kernelspec": {
      "name": "python3",
      "display_name": "Python 3"
    },
    "language_info": {
      "name": "python"
    }
  },
  "cells": [
    {
      "cell_type": "markdown",
      "source": [
        "Alif Anugerah Pratama\n",
        "\n",
        "Akar Persamaan"
      ],
      "metadata": {
        "id": "rorxuhC1oGE-"
      }
    },
    {
      "cell_type": "code",
      "execution_count": 3,
      "metadata": {
        "colab": {
          "base_uri": "https://localhost:8080/"
        },
        "id": "LyF_QFqAnP9d",
        "outputId": "91f2dbc3-3ac6-4450-fa4c-c565069ae31f"
      },
      "outputs": [
        {
          "output_type": "stream",
          "name": "stdout",
          "text": [
            "f(x0) = x^2 - 2x - 8\n",
            "x0 = 57.000\n",
            "Akar fungsi = 12.000\n"
          ]
        }
      ],
      "source": [
        "def nr(f, df, x0, tol):\n",
        "    if abs(f(x0)) < tol:\n",
        "        return x0\n",
        "    else:\n",
        "        return nr(f, df, x0 - f(x0)/df(x0), tol)\n",
        "f = lambda x: x**2 - 3*x - 108\n",
        "f_prime = lambda x: 2*x - 2\n",
        "newton_raphson = 2 - (f(2))/(f_prime(2))\n",
        "\n",
        "print(\"f(x0) = x^2 - 2x - 8\");\n",
        "print(f\"x0 = {newton_raphson:.3f}\")\n",
        "akar = nr(f, f_prime, 2, 1e-6)\n",
        "print(f\"Akar fungsi = {akar:.3f}\")"
      ]
    },
    {
      "cell_type": "code",
      "source": [
        "f = lambda x: x**2-6*x+8\n",
        "\n",
        "def bisection(a,b,e):  \n",
        "    condition = True\n",
        "    while condition:\n",
        "        \n",
        "        c = (a + b)/2\n",
        "\n",
        "        if f(a) * f(c) < 0:\n",
        "            b = c\n",
        "        else:\n",
        "            a = c\n",
        "\n",
        "        condition = abs(f(c)) > e\n",
        "\n",
        "    print('\\nAkarnya yaitu: %0.8f' % c)\n",
        "\n",
        "a = float(input('Masukan Nilai a: '))\n",
        "b = float(input('Masukan Nilai b: '))\n",
        "e = float(input('Masukan Nilai Galat: '))\n",
        "\n",
        "if f(a) * f(b) > 0.0:\n",
        "    print('Tidak terdapat akar pada range ini')\n",
        "else:\n",
        "    bisection(a,b,e)"
      ],
      "metadata": {
        "colab": {
          "base_uri": "https://localhost:8080/"
        },
        "id": "L6z8hzZ0nxLi",
        "outputId": "c2079a1b-58dc-4cea-fa63-7fd146480500"
      },
      "execution_count": 2,
      "outputs": [
        {
          "output_type": "stream",
          "name": "stdout",
          "text": [
            "Masukan Nilai a: 4\n",
            "Masukan Nilai b: 4\n",
            "Masukan Nilai Galat: 4\n",
            "\n",
            "Akarnya yaitu: 4.00000000\n"
          ]
        }
      ]
    }
  ]
}