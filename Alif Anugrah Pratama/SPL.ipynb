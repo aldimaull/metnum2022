{
  "nbformat": 4,
  "nbformat_minor": 0,
  "metadata": {
    "colab": {
      "provenance": []
    },
    "kernelspec": {
      "name": "python3",
      "display_name": "Python 3"
    },
    "language_info": {
      "name": "python"
    }
  },
  "cells": [
    {
      "cell_type": "markdown",
      "source": [
        "# SPL"
      ],
      "metadata": {
        "id": "XHMMj1NlpEJK"
      }
    },
    {
      "cell_type": "markdown",
      "source": [
        "## Doolitle"
      ],
      "metadata": {
        "id": "jg-3vUcJpZqc"
      }
    },
    {
      "cell_type": "code",
      "execution_count": 2,
      "metadata": {
        "colab": {
          "base_uri": "https://localhost:8080/"
        },
        "id": "Gt69Gduco91j",
        "outputId": "970712ad-bd73-4464-f84f-1bbe650402ac"
      },
      "outputs": [
        {
          "output_type": "stream",
          "name": "stdout",
          "text": [
            "Lower\t\t\t\tUpper\n",
            "1.00\t0.00\t0.00\t\t1.00\t2.00\t3.00\t\n",
            "3.00\t1.00\t0.00\t\t0.00\t-7.00\t-7.00\t\n",
            "4.00\t2.00\t1.00\t\t0.00\t0.00\t-2.00\t\n"
          ]
        }
      ],
      "source": [
        "def luDecomposition(mat, n):\n",
        " \n",
        "    lower = [[0 for x in range(n)]\n",
        "             for y in range(n)]\n",
        "    upper = [[0 for x in range(n)]\n",
        "             for y in range(n)]\n",
        "    \n",
        "    # Dekomposisi Matriks LU (Bawah dan Atas)\n",
        "    for i in range(n):\n",
        " \n",
        "        # Upper (Atas)\n",
        "        for k in range(i, n):\n",
        " \n",
        "            # Penjumlahan dari L(i, j) * U(j, k)\n",
        "            sum = 0\n",
        "            for j in range(i):\n",
        "                sum += (lower[i][j] * upper[j][k])\n",
        " \n",
        "            # Mengevaluasi U(i, k)\n",
        "            upper[i][k] = float(mat[i][k] - sum)\n",
        " \n",
        "        # Lower (Bawah)\n",
        "        for k in range(i, n):\n",
        "            if (i == k):\n",
        "                lower[i][i] = 1  # Diagonal = 1\n",
        "            else:\n",
        " \n",
        "                # Penjumlahan of L(k, j) * U(j, i)\n",
        "                sum = 0\n",
        "                for j in range(i):\n",
        "                    sum += (lower[k][j] * upper[j][i])\n",
        " \n",
        "                # Mengevaluasi L(k, i)\n",
        "                lower[k][i] = float((mat[k][i] - sum) /\n",
        "                                  upper[i][i])\n",
        "     \n",
        "    print(\"Lower\\t\\t\\t\\tUpper\")\n",
        " \n",
        "    # Hasil :\n",
        "    for i in range(n):\n",
        "        \n",
        "        # Lower\n",
        "        for j in range(n):\n",
        "            print(\"%.2f\" %  lower[i][j], end=\"\\t\")\n",
        "        print(\"\", end=\"\\t\")\n",
        " \n",
        "        # Upper\n",
        "        for j in range(n):\n",
        "            print(\"%.2f\" %  upper[i][j], end=\"\\t\")\n",
        "        print(\"\")\n",
        "\n",
        "#\"%.2f\" %        \n",
        " \n",
        "# Matriks\n",
        "#mat = [[2, -1, -2],\n",
        "#       [-4, 6, 3],\n",
        "#       [-4, -2, 8]]\n",
        "\n",
        "\n",
        "#mat = [[1, -1, 2,-1],\n",
        "#       [1, 1, 1,0],\n",
        "#       [2, -2, 3,-3],\n",
        "#       [1,-1,4,3]]\n",
        "\n",
        "mat = [[1, 2, 3],\n",
        "       [3, -1, 2],\n",
        "       [4, -6, -4]]\n",
        "\n",
        "\n",
        "#mat = [[4, 1, 2],\n",
        "#       [3, 3, 1],\n",
        "#       [2, 1, 3]]\n",
        "       \n",
        "#mat = [[4, 3, 2] , [1, 3, 1], [2, 1, 3]]\n",
        "\n",
        "luDecomposition(mat, 3) \n",
        "#luDecomposition(mat, 4)"
      ]
    },
    {
      "cell_type": "markdown",
      "source": [
        "## Gauss-Seidel"
      ],
      "metadata": {
        "id": "_UYv2dB0pl6H"
      }
    },
    {
      "cell_type": "code",
      "source": [
        "# Gauss Seidel \n",
        "\n",
        "f1 = lambda a, b, c, d, e: (5 + 2 * b + c) / 8\n",
        "f2 = lambda a, b, c, d, e: (2 + 2 * a + 4 * c + d) / 9\n",
        "f3 = lambda a, b, c, d, e: (a + 3 * b + d + 2 * e) / 7\n",
        "f4 = lambda a, b, c, d, e: (1 + 4 * b + 2 * c + 5 * e) / 12\n",
        "f5 = lambda a, b, c, d, e: (5 + 7 * c + 3 * d) / 15\n",
        "\n",
        "a0 = 0\n",
        "b0 = 0\n",
        "c0 = 0\n",
        "d0 = 0\n",
        "e0 = 0\n",
        "\n",
        "count = 1\n",
        "\n",
        "# Galat \n",
        "eps = 0.0001\n",
        "\n",
        "print('\\nHitung\\ta\\tb\\tc\\td\\te\\n')\n",
        "\n",
        "condition = True\n",
        "\n",
        "while condition:\n",
        "    a1 = f1(a0, b0, c0, d0, e0)\n",
        "    b1 = f2(a1, b0, c0, d0, e0)\n",
        "    c1 = f3(a1, b1, c0, d0, e0)\n",
        "    d1 = f4(a1, b1, c1, d0, e0)\n",
        "    e1 = f4(a1, b1, c1, d1, e0)\n",
        "\n",
        "    print('%d\\t%0.4f\\t%0.4f\\t%0.4f\\t%0.4f\\t%0.4f\\n' % (count, a1, b1, c1, d1, e1))\n",
        "    ep1 = abs(a0 - a1)\n",
        "    ep2 = abs(b0 - b1)\n",
        "    ep3 = abs(c0 - c1)\n",
        "    ep4 = abs(d0 - d1)\n",
        "    ep5 = abs(e0 - e1)\n",
        "\n",
        "    count += 1\n",
        "    a0 = a1\n",
        "    b0 = b1\n",
        "    c0 = c1\n",
        "    d0 = d1\n",
        "    e0 = e1\n",
        "\n",
        "    condition = ep1 > eps and ep2 > eps and ep3 > eps and ep4 > eps and ep5 > eps\n",
        "\n",
        "print('\\nSolusi: a=%0.4f, b=%0.4f, c=%0.4f, d=%0.4f and eps = %0.4f\\n' % (a1, b1, c1, d1, e1))"
      ],
      "metadata": {
        "colab": {
          "base_uri": "https://localhost:8080/"
        },
        "id": "Zhk_n6mEplno",
        "outputId": "85f4e8fe-2552-4649-d5b3-439c8874bfe3"
      },
      "execution_count": 3,
      "outputs": [
        {
          "output_type": "stream",
          "name": "stdout",
          "text": [
            "\n",
            "Hitung\ta\tb\tc\td\te\n",
            "\n",
            "1\t0.6250\t0.3611\t0.2440\t0.2444\t0.2444\n",
            "\n",
            "2\t0.7458\t0.5236\t0.4357\t0.4323\t0.4323\n",
            "\n",
            "3\t0.8104\t0.6440\t0.5770\t0.5743\t0.5743\n",
            "\n",
            "4\t0.8581\t0.7332\t0.6829\t0.6808\t0.6808\n",
            "\n",
            "5\t0.8937\t0.8000\t0.7623\t0.7607\t0.7607\n",
            "\n",
            "6\t0.9203\t0.8501\t0.8218\t0.8206\t0.8206\n",
            "\n",
            "7\t0.9402\t0.8876\t0.8664\t0.8655\t0.8655\n",
            "\n",
            "8\t0.9552\t0.9157\t0.8999\t0.8992\t0.8992\n",
            "\n",
            "9\t0.9664\t0.9368\t0.9249\t0.9244\t0.9244\n",
            "\n",
            "10\t0.9748\t0.9526\t0.9437\t0.9433\t0.9433\n",
            "\n",
            "11\t0.9811\t0.9645\t0.9578\t0.9575\t0.9575\n",
            "\n",
            "12\t0.9858\t0.9734\t0.9684\t0.9682\t0.9682\n",
            "\n",
            "13\t0.9894\t0.9800\t0.9763\t0.9761\t0.9761\n",
            "\n",
            "14\t0.9920\t0.9850\t0.9822\t0.9821\t0.9821\n",
            "\n",
            "15\t0.9940\t0.9888\t0.9867\t0.9866\t0.9866\n",
            "\n",
            "16\t0.9955\t0.9916\t0.9900\t0.9899\t0.9899\n",
            "\n",
            "17\t0.9966\t0.9937\t0.9925\t0.9925\t0.9925\n",
            "\n",
            "18\t0.9975\t0.9953\t0.9944\t0.9943\t0.9943\n",
            "\n",
            "19\t0.9981\t0.9965\t0.9958\t0.9958\t0.9958\n",
            "\n",
            "20\t0.9986\t0.9973\t0.9968\t0.9968\t0.9968\n",
            "\n",
            "21\t0.9989\t0.9980\t0.9976\t0.9976\t0.9976\n",
            "\n",
            "22\t0.9992\t0.9985\t0.9982\t0.9982\t0.9982\n",
            "\n",
            "23\t0.9994\t0.9989\t0.9987\t0.9987\t0.9987\n",
            "\n",
            "24\t0.9996\t0.9992\t0.9990\t0.9990\t0.9990\n",
            "\n",
            "25\t0.9997\t0.9994\t0.9993\t0.9992\t0.9992\n",
            "\n",
            "26\t0.9997\t0.9995\t0.9994\t0.9994\t0.9994\n",
            "\n",
            "\n",
            "Solusi: a=0.9997, b=0.9995, c=0.9994, d=0.9994 and eps = 0.9994\n",
            "\n"
          ]
        }
      ]
    },
    {
      "cell_type": "markdown",
      "source": [
        "## Crout"
      ],
      "metadata": {
        "id": "Y2YIFcDmpsyf"
      }
    },
    {
      "cell_type": "code",
      "source": [
        "import numpy as np\n",
        "\n",
        "def showMatrix(matrix):\n",
        "    n = len(matrix)\n",
        "    for i in range (n):\n",
        "        for j in range(n):\n",
        "            print('%.2f' % matrix[i][j], end='\\t')\n",
        "        print(\"\")\n",
        "\n",
        "A = np.array([[1,2,1],[-2,3,5],[6,2,-1]],dtype=float)\n",
        "print(\"Matriks A: \",); showMatrix(A)\n",
        "\n",
        "U = np.copy(A)\n",
        "print(\"\\nMatriks UA: \",); showMatrix(U)\n",
        "\n",
        "U[1,:] += 2 * U[0,:]\n",
        "print(\"U: \"); showMatrix(U)\n",
        "\n",
        "E1 = np.identity(3)"
      ],
      "metadata": {
        "colab": {
          "base_uri": "https://localhost:8080/"
        },
        "id": "PBHrbjd5ptn3",
        "outputId": "35b56457-3885-4982-d4ce-5328da2a2d7a"
      },
      "execution_count": 4,
      "outputs": [
        {
          "output_type": "stream",
          "name": "stdout",
          "text": [
            "Matriks A: \n",
            "1.00\t2.00\t1.00\t\n",
            "-2.00\t3.00\t5.00\t\n",
            "6.00\t2.00\t-1.00\t\n",
            "\n",
            "Matriks UA: \n",
            "1.00\t2.00\t1.00\t\n",
            "-2.00\t3.00\t5.00\t\n",
            "6.00\t2.00\t-1.00\t\n",
            "U: \n",
            "1.00\t2.00\t1.00\t\n",
            "0.00\t7.00\t7.00\t\n",
            "6.00\t2.00\t-1.00\t\n"
          ]
        }
      ]
    },
    {
      "cell_type": "code",
      "source": [
        "import numpy as np\n",
        "\n",
        "def crout(A):\n",
        "    L = np.zeros((3, 3))\n",
        "    U = np.zeros((3, 3))\n",
        "    \n",
        "    for k in range(0, 3):\n",
        "        U[k, k] = 1 \n",
        "\n",
        "        for j in range(k, 3):\n",
        "            sum0 = sum([L[j, s] * U[s, k] for s in range(0, j)]) #range from index 0\n",
        "            L[j, k] = A[j, k] - sum0 #reversed index\n",
        "            print(f\"{j}. \",L)\n",
        "            print(\"\")\n",
        "\n",
        "        for j in range(k+1, 3):\n",
        "            sum1 = sum([L[k, s] * U[s, j] for s in range(0, k)]) #range from index 0\n",
        "            U[k, j] = (A[k, j] - sum1) / L[k, k]\n",
        "            print(f\"{j}. \",U)\n",
        "            print(\"\")\n",
        "    print(L)\n",
        "    print(U)\n",
        "    return L, U\n",
        "\n",
        "A = np.array([[60.0, 30.0, 20.0], [30.0, 20.0, 15.0], [20.0, 15.0, 12.0]])\n",
        "print(f\"Matriks A: \\n{A}\")\n",
        "print(\"\\nCrout: \"); crout(A)"
      ],
      "metadata": {
        "colab": {
          "base_uri": "https://localhost:8080/"
        },
        "id": "otyEjuObpzPY",
        "outputId": "41958d91-ba78-47a1-855f-e61863779a24"
      },
      "execution_count": 5,
      "outputs": [
        {
          "output_type": "stream",
          "name": "stdout",
          "text": [
            "Matriks A: \n",
            "[[60. 30. 20.]\n",
            " [30. 20. 15.]\n",
            " [20. 15. 12.]]\n",
            "\n",
            "Crout: \n",
            "0.  [[60.  0.  0.]\n",
            " [ 0.  0.  0.]\n",
            " [ 0.  0.  0.]]\n",
            "\n",
            "1.  [[60.  0.  0.]\n",
            " [30.  0.  0.]\n",
            " [ 0.  0.  0.]]\n",
            "\n",
            "2.  [[60.  0.  0.]\n",
            " [30.  0.  0.]\n",
            " [20.  0.  0.]]\n",
            "\n",
            "1.  [[1.  0.5 0. ]\n",
            " [0.  0.  0. ]\n",
            " [0.  0.  0. ]]\n",
            "\n",
            "2.  [[1.         0.5        0.33333333]\n",
            " [0.         0.         0.        ]\n",
            " [0.         0.         0.        ]]\n",
            "\n",
            "1.  [[60.  0.  0.]\n",
            " [30.  5.  0.]\n",
            " [20.  0.  0.]]\n",
            "\n",
            "2.  [[60.  0.  0.]\n",
            " [30.  5.  0.]\n",
            " [20.  5.  0.]]\n",
            "\n",
            "2.  [[1.         0.5        0.33333333]\n",
            " [0.         1.         1.        ]\n",
            " [0.         0.         0.        ]]\n",
            "\n",
            "2.  [[60.          0.          0.        ]\n",
            " [30.          5.          0.        ]\n",
            " [20.          5.          0.33333333]]\n",
            "\n",
            "[[60.          0.          0.        ]\n",
            " [30.          5.          0.        ]\n",
            " [20.          5.          0.33333333]]\n",
            "[[1.         0.5        0.33333333]\n",
            " [0.         1.         1.        ]\n",
            " [0.         0.         1.        ]]\n"
          ]
        },
        {
          "output_type": "execute_result",
          "data": {
            "text/plain": [
              "(array([[60.        ,  0.        ,  0.        ],\n",
              "        [30.        ,  5.        ,  0.        ],\n",
              "        [20.        ,  5.        ,  0.33333333]]),\n",
              " array([[1.        , 0.5       , 0.33333333],\n",
              "        [0.        , 1.        , 1.        ],\n",
              "        [0.        , 0.        , 1.        ]]))"
            ]
          },
          "metadata": {},
          "execution_count": 5
        }
      ]
    }
  ]
}