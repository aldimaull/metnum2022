{
  "metadata": {
    "language_info": {
      "name": ""
    },
    "kernelspec": {
      "name": "python",
      "display_name": "Python (Pyodide)",
      "language": "python"
    }
  },
  "nbformat_minor": 4,
  "nbformat": 4,
  "cells": [
    {
      "cell_type": "markdown",
      "source": "# AKAR PERSAMAAN\n\n**Karina Aulia Putri Reiviani_2006055_KOM5A**\n\nEksplorasi pembuatan kode program untuk akar persamaan newton raphson dan akar persamaan metode bagi dua ",
      "metadata": {}
    },
    {
      "cell_type": "markdown",
      "source": "## Newton Raphson",
      "metadata": {}
    },
    {
      "cell_type": "code",
      "source": "def nr(f, df, x0, tol):\n    # keluaran merupakan estimasi dari akar fungsi f\n    # menggunakan metode Newton-Raphson secara rekursif\n    if abs(f(x0)) < tol: # jika f(x0) kurang dari toleransi galat\n        return x0 # kembalikan nilai x0\n    else: # jika f(x0) lebih dari toleransi galat\n        return nr(f, df, x0 - f(x0)/df(x0), tol) # kembalikan nilai x0 dengan operasi rumus Newton-Raphson\n\nf = lambda x: x**2 - 3*x - 108 # fungsi f(x) = x^2 - 2x -8\nf_prime = lambda x: 2*x - 2 # turunan fungsi f(x) = 2x - 2\nnewton_raphson = 2 - (f(2))/(f_prime(2)) # rumus Newton-Raphson dengan taksiran awal x0 = 5\n\nprint(\"f(x0) = x^2 - 2x - 8\"); # cetak fungsi f(x0)\nprint(f\"x0 = {newton_raphson:.3f}\") # cetak x0\nakar = nr(f, f_prime, 2, 1e-6) # memanggil fungsi nr() dan inisialisasi ke variable akar\nprint(f\"Akar fungsi = {akar:.3f}\") # cetak nilai estimasi akar dari f(x0)",
      "metadata": {
        "trusted": true
      },
      "execution_count": null,
      "outputs": []
    },
    {
      "cell_type": "markdown",
      "source": "## Bagi Dua / Bisection",
      "metadata": {}
    },
    {
      "cell_type": "code",
      "source": "# Fungsinya\nf = lambda x: x**2-6*x+8\n\n# Metode Bagi Dua\ndef bisection(a,b,e):  \n    condition = True\n    while condition:\n        \n        c = (a + b)/2  # c = (a+b)/2\n\n        if f(a) * f(c) < 0:\n            b = c\n        else:\n            a = c\n\n        condition = abs(f(c)) > e\n\n    print('\\nAkarnya yaitu: %0.8f' % c)\n\na = float(input('Masukan Nilai a: '))\nb = float(input('Masukan Nilai b: '))\ne = float(input('Masukan Nilai Galat: '))\n\nif f(a) * f(b) > 0.0:\n    print('Tidak terdapat akar pada range ini')\nelse:\n    bisection(a,b,e)",
      "metadata": {
        "trusted": true
      },
      "execution_count": null,
      "outputs": []
    }
  ]
}