{
  "metadata": {
    "language_info": {
      "name": ""
    },
    "kernelspec": {
      "name": "python",
      "display_name": "Python (Pyodide)",
      "language": "python"
    }
  },
  "nbformat_minor": 4,
  "nbformat": 4,
  "cells": [
    {
      "cell_type": "markdown",
      "source": "# SPL\n**Karina Aulia Putri Reiviani_2006055_KOM5A**\n\nEksplorasi pembuatan kode program untuk sistem persamaan linear gauss jordan, ",
      "metadata": {}
    },
    {
      "cell_type": "markdown",
      "source": "### Gauss Jordan",
      "metadata": {}
    },
    {
      "cell_type": "code",
      "source": "# Metode Gauss Jordan\n# Importing NumPy Library\nimport numpy as np\nimport sys\n\n# Memasukan matriks\nn = int(input('Masukan ordo matriks: '))\n\n# Membuat array numpy dengan ukuran nxn+1 dan menginisialisasi\n# ke nol untuk menyimpan matriks yang diperbesar\na = np.zeros((n,n+1))\n\n# Membuat array numpy dengan ukuran n dan menginisialisasi\n# ke nol untuk menyimpan vektor solusi\nx = np.zeros(n)\n\n# Membaca koefisien matriks yang diperbesar\nprint('Masukkan Koefisien Matriks Augmented:')\nfor i in range(n):\n    for j in range(n+1):\n        a[i][j] = float(input( 'a['+str(i)+']['+ str(j)+']='))\n\n# Mengaplikasikan Gauss Jordan Elimination\nfor i in range(n):\n    if a[i][i] == 0.0:\n        sys.exit('Divide by zero detected!')\n        \n    for j in range(n):\n        if i != j:\n            ratio = a[j][i]/a[i][i]\n\n            for k in range(n+1):\n                a[j][k] = a[j][k] - ratio * a[i][k]\n\n# Memperoleh Solusi\n\nfor i in range(n):\n    x[i] = a[i][n]/a[i][i]\n\n# Menampilkan Solusi\nprint('\\nRequired solution is: ')\nfor i in range(n):\n    print('X%d = %0.2f' %(i,x[i]), end = '\\t')",
      "metadata": {
        "trusted": true
      },
      "execution_count": null,
      "outputs": []
    },
    {
      "cell_type": "raw",
      "source": "Masukan ordo matriks: 2\nMasukkan Koefisien Matriks Augmented:\na[0][0]=1\na[0][1]=2\na[0][2]=3\na[1][0]=4\na[1][1]=5\na[1][2]=6\nRequired solution is: \nX0 = -1.00\tX1 = 2.00\t",
      "metadata": {}
    },
    {
      "cell_type": "code",
      "source": "",
      "metadata": {},
      "execution_count": null,
      "outputs": []
    }
  ]
}