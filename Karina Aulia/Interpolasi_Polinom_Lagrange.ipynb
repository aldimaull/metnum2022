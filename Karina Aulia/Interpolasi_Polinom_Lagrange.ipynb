{
  "metadata": {
    "language_info": {
      "name": ""
    },
    "kernelspec": {
      "name": "python",
      "display_name": "Python (Pyodide)",
      "language": "python"
    }
  },
  "nbformat_minor": 4,
  "nbformat": 4,
  "cells": [
    {
      "cell_type": "markdown",
      "source": "# INTERPOLASI POLINOM LAGRANGE\n\n**Karina Aulia Putri Reiviani_2006055_KOM5A**\n\nEksplorasi pembuatan kode program untuk interpolasi polinom lagrange",
      "metadata": {}
    },
    {
      "cell_type": "markdown",
      "source": "### Data Exel",
      "metadata": {}
    },
    {
      "cell_type": "code",
      "source": "import numpy as np\nimport matplotlib.pyplot as plt\nimport pandas as pd\nimport openpyxl as px\n\ndef lagrange():\n    data = pd.read_excel('data_panda.xlsx')\n    print(\"Data yang akan diolah: \")\n    print(data)\n    print(\"\")\n\n    W = px.load_workbook('data_panda.xlsx')\n    p = W['Sheet1']\n\n    ab_range = len(data)\n    awal_data = 2\n\n    axl = [p['A%s'%i].value for i in range(0+awal_data,ab_range+awal_data)]\n    bxl = [p['B%s'%i].value for i in range(0+awal_data,ab_range+awal_data)]\n\n    axl_arr = np.array(axl)\n    bxl_arr = np.array(bxl)\n\n    xplt = np.linspace(axl_arr[0],axl_arr[-1])\n    yplt = np.array([], float)\n\n    for xp in xplt:\n        yp = 0\n        for xi, yi in zip(axl_arr,bxl_arr):\n            yp += yi * np.prod((xp - axl_arr[axl_arr != xi])/(xi - axl_arr[axl_arr != xi]))\n        yplt = np.append(yplt,yp)\n\n    xp = float(input(\"Masukkan titik interpolasi: \"))\n    for i in range(len(axl_arr)):\n        yp = 0\n        for xi, yi in zip(axl_arr,bxl_arr):\n            yp += yi * np.prod((xp - axl_arr[axl_arr != xi])/(xi - axl_arr[axl_arr != xi]))\n    \n    print(f\"Untuk titik X yang dinginkan, yaitu {xp}, maka nilai Y-nya, yaitu {yp}\")\n\n    print(\"Interpolasi\")\n    for m, n in zip(xplt, yplt):\n        print(\"Untuk X %.3f, Y = %.3f\" % (m, n))\n\n    # plot\n    plt.plot(axl_arr,bxl_arr,'ro',xplt,yplt,'b-')\n    plt.plot(xp, yp, 'go')\n    plt.xlabel('Data X')\n    plt.ylabel('Data Y')\n    plt.grid()\n    plt.show()\n\n    xdf = pd.DataFrame(yplt, xplt)\n    xdf.to_excel('data_panda_hasil.xlsx', sheet_name='Coba')\n\n# Panggil fungsi\nlagrange()\n     ",
      "metadata": {},
      "execution_count": null,
      "outputs": []
    },
    {
      "cell_type": "markdown",
      "source": "### Hard Code",
      "metadata": {}
    },
    {
      "cell_type": "code",
      "source": "import numpy as np\nimport matplotlib.pyplot as plt\n\n# x = np.array([0, 0.4, 0.8], float)\n# y = np.array([1, 0.921061, 0.696707], float)\nx = np.array([5, 10, 15, 20, 25, 30, 35, 40], float)\ny = np.array([40, 30, 25, 40, 18, 20, 22, 15], float)\n\nxplt = np.linspace(x[0],x[-1])\nyplt = np.array([], float)\n\nfor xp in xplt: # perulangan setiap data x di sepanjang xplt\n    yp = 0 # tampungan\n\n    for xi, yi in zip(x,y):\n        yp += yi * np.prod((xp - x[x != xi])/(xi - x[x != xi]))\n    yplt = np.append(yplt,yp)\n\nxp = float(input(\"Masukkan titik interpolasi: \"))\nfor i in range(len(x)):\n    yp = 0\n    for xi, yi in zip(x,y):\n        yp += yi * np.prod((xp - x[x != xi])/(xi - x[x != xi]))\nprint(yp)\n\n# plot\nplt.plot(x, y, \"o\", xplt,yplt,'b-')\nplt.plot(xp, yp, \"ro\")\nplt.xlabel('x')\nplt.ylabel('y')\nplt.grid()\nplt.show()",
      "metadata": {},
      "execution_count": null,
      "outputs": []
    },
    {
      "cell_type": "markdown",
      "source": "### User Input",
      "metadata": {}
    },
    {
      "cell_type": "code",
      "source": "import numpy as np\nimport matplotlib.pyplot as plt\n\nn = int(input(\"Masukkan banyak data X yang akan diolah: \"))\n\nxarr = np.array([],float)\nyarr = np.array([],float)\n\nprint(f\"Masukkan data X sebanyak {n}: \")\nfor x in range(0,n):\n    xm = 0\n    xm += float(input(\"\"))\n    xarr = np.append(xarr,xm)\nprint(f\"Data X yaitu: {xarr} \")\n\nprint(f\"Masukkan data Y sebanyak {n}: \")\nfor y in range(0,n):\n    ym = 0\n    ym += float(input(\"\"))\n    yarr = np.append(yarr,ym)\nprint(f\"Data Y yaitu: {yarr} \")\n\nxplt = np.linspace(xarr[0],xarr[-1])\nyplt = np.array([], float)\n\nfor xp in xplt:\n    yp = 0\n    for xi, yi in zip(xarr,yarr):\n        yp += yi * np.prod((xp - xarr[xarr != xi])/(xi - xarr[xarr != xi]))\n    yplt = np.append(yplt,yp)\n\nxp = float(input(\"Masukkan titik interpolasi: \"))\nfor i in range(len(x)):\n    yp = 0\n    for xi, yi in zip(x,y):\n        yp += yi * np.prod((xp - x[x != xi])/(xi - x[x != xi]))\nprint(yp)\n\nplt.plot(xarr,yarr,'o',xplt,yplt,'b-')\nplt.plot(xp, yp, 'go')\nplt.xlabel('x')\nplt.ylabel('y')\nplt.grid()\nplt.show()",
      "metadata": {},
      "execution_count": null,
      "outputs": []
    }
  ]
}