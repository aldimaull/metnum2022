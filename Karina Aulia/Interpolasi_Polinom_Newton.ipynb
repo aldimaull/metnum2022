{
  "metadata": {
    "language_info": {
      "name": ""
    },
    "kernelspec": {
      "name": "python",
      "display_name": "Python (Pyodide)",
      "language": "python"
    }
  },
  "nbformat_minor": 4,
  "nbformat": 4,
  "cells": [
    {
      "cell_type": "markdown",
      "source": "# INTERPOLASI POLINOM NEWTON\n\n**Karina Aulia Putri Reiviani_2006055_KOM5A**\n\nEksplorasi pembuatan kode program untuk interpolasi polinom newton",
      "metadata": {}
    },
    {
      "cell_type": "code",
      "source": "import numpy as np\nimport matplotlib.pyplot as plt\n\nx = np.array([0, 0.4, 0.8], float)\ny = np.array([1, 0.921061, 0.696707], float)\n\nxInput = 0.5\n\nn = len(x)-1\n\nST = np.zeros((n+1,n+1))\nST[:,0] = y\n\nfor k in range(1, n+1):\n    for i in range(0, n-k+1):\n        ST[i,k] = (ST[i+1, k-1] - ST[i, k-1])/(x[i+k]-x[i])\n\np = ST[0,0]\nfor i in range(1,n+1):\n    a = ST[0,i]\n\n    for k in range(0,i):\n        a = a * (xInput - x[k])\n    p += a\n\nxplt = np.linspace(x[0],x[-1])\n\nplt.plot(x, y, \"o\")\nplt.xlabel('x')\nplt.ylabel('y')\nplt.grid()\nplt.show()",
      "metadata": {},
      "execution_count": null,
      "outputs": []
    }
  ]
}