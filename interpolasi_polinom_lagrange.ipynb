{
  "nbformat": 4,
  "nbformat_minor": 0,
  "metadata": {
    "colab": {
      "provenance": []
    },
    "kernelspec": {
      "name": "python3",
      "display_name": "Python 3"
    },
    "language_info": {
      "name": "python"
    }
  },
  "cells": [
    {
      "cell_type": "markdown",
      "source": [
        "Eka Tiara Nur Fitriana_2002859_KOM 5A\n",
        "\n",
        "Eksplorasi pembuatan kode program untuk Interpolasi Polinom Lagrange"
      ],
      "metadata": {
        "id": "lJmqkMku96WM"
      }
    },
    {
      "cell_type": "markdown",
      "source": [
        "Data Excell"
      ],
      "metadata": {
        "id": "WT34vJtO_dg2"
      }
    },
    {
      "cell_type": "code",
      "execution_count": null,
      "metadata": {
        "id": "YCXqvfm59wxS"
      },
      "outputs": [],
      "source": [
        "import numpy as np\n",
        "import matplotlib.pyplot as plt\n",
        "import pandas as pd\n",
        "import openpyxl as px\n",
        "\n",
        "def lagrange():\n",
        "    data = pd.read_excel('data_panda.xlsx')\n",
        "    print(\"Data yang akan diolah: \")\n",
        "    print(data)\n",
        "    print(\"\")\n",
        "\n",
        "    W = px.load_workbook('data_panda.xlsx')\n",
        "    p = W['Sheet1']\n",
        "\n",
        "    ab_range = len(data)\n",
        "    awal_data = 2\n",
        "\n",
        "    axl = [p['A%s'%i].value for i in range(0+awal_data,ab_range+awal_data)]\n",
        "    bxl = [p['B%s'%i].value for i in range(0+awal_data,ab_range+awal_data)]\n",
        "\n",
        "    axl_arr = np.array(axl)\n",
        "    bxl_arr = np.array(bxl)\n",
        "\n",
        "    xplt = np.linspace(axl_arr[0],axl_arr[-1])\n",
        "    yplt = np.array([], float)\n",
        "\n",
        "    for xp in xplt:\n",
        "        yp = 0\n",
        "        for xi, yi in zip(axl_arr,bxl_arr):\n",
        "            yp += yi * np.prod((xp - axl_arr[axl_arr != xi])/(xi - axl_arr[axl_arr != xi]))\n",
        "        yplt = np.append(yplt,yp)\n",
        "\n",
        "    xp = float(input(\"Masukkan titik interpolasi: \"))\n",
        "    for i in range(len(axl_arr)):\n",
        "        yp = 0\n",
        "        for xi, yi in zip(axl_arr,bxl_arr):\n",
        "            yp += yi * np.prod((xp - axl_arr[axl_arr != xi])/(xi - axl_arr[axl_arr != xi]))\n",
        "    \n",
        "    print(f\"Untuk titik X yang dinginkan, yaitu {xp}, maka nilai Y-nya, yaitu {yp}\")\n",
        "\n",
        "    print(\"Interpolasi\")\n",
        "    for m, n in zip(xplt, yplt):\n",
        "        print(\"Untuk X %.3f, Y = %.3f\" % (m, n))\n",
        "\n",
        "    # plot\n",
        "    plt.plot(axl_arr,bxl_arr,'ro',xplt,yplt,'b-')\n",
        "    plt.plot(xp, yp, 'go')\n",
        "    plt.xlabel('Data X')\n",
        "    plt.ylabel('Data Y')\n",
        "    plt.grid()\n",
        "    plt.show()\n",
        "\n",
        "    xdf = pd.DataFrame(yplt, xplt)\n",
        "    xdf.to_excel('data_panda_hasil.xlsx', sheet_name='Coba')\n",
        "\n",
        "# Panggil fungsi\n",
        "lagrange()"
      ]
    },
    {
      "cell_type": "markdown",
      "source": [
        "Hard-Code"
      ],
      "metadata": {
        "id": "13nUIwkm_hzc"
      }
    },
    {
      "cell_type": "code",
      "source": [
        "import numpy as np\n",
        "import matplotlib.pyplot as plt\n",
        "\n",
        "# x = np.array([0, 0.4, 0.8], float)\n",
        "# y = np.array([1, 0.921061, 0.696707], float)\n",
        "x = np.array([5, 10, 15, 20, 25, 30, 35, 40], float)\n",
        "y = np.array([40, 30, 25, 40, 18, 20, 22, 15], float)\n",
        "\n",
        "xplt = np.linspace(x[0],x[-1])\n",
        "yplt = np.array([], float)\n",
        "\n",
        "for xp in xplt: # perulangan setiap data x di sepanjang xplt\n",
        "    yp = 0 # tampungan\n",
        "\n",
        "    for xi, yi in zip(x,y):\n",
        "        yp += yi * np.prod((xp - x[x != xi])/(xi - x[x != xi]))\n",
        "    yplt = np.append(yplt,yp)\n",
        "\n",
        "xp = float(input(\"Masukkan titik interpolasi: \"))\n",
        "for i in range(len(x)):\n",
        "    yp = 0\n",
        "    for xi, yi in zip(x,y):\n",
        "        yp += yi * np.prod((xp - x[x != xi])/(xi - x[x != xi]))\n",
        "print(yp)\n",
        "\n",
        "# plot\n",
        "plt.plot(x, y, \"o\", xplt,yplt,'b-')\n",
        "plt.plot(xp, yp, \"ro\")\n",
        "plt.xlabel('x')\n",
        "plt.ylabel('y')\n",
        "plt.grid()\n",
        "plt.show()"
      ],
      "metadata": {
        "id": "yO3HJa2Y-yui"
      },
      "execution_count": null,
      "outputs": []
    },
    {
      "cell_type": "markdown",
      "source": [
        "User Input"
      ],
      "metadata": {
        "id": "1ayGTa00_kI8"
      }
    },
    {
      "cell_type": "code",
      "source": [
        "import numpy as np\n",
        "import matplotlib.pyplot as plt\n",
        "\n",
        "n = int(input(\"Masukkan banyak data X yang akan diolah: \"))\n",
        "\n",
        "xarr = np.array([],float)\n",
        "yarr = np.array([],float)\n",
        "\n",
        "print(f\"Masukkan data X sebanyak {n}: \")\n",
        "for x in range(0,n):\n",
        "    xm = 0\n",
        "    xm += float(input(\"\"))\n",
        "    xarr = np.append(xarr,xm)\n",
        "print(f\"Data X yaitu: {xarr} \")\n",
        "\n",
        "print(f\"Masukkan data Y sebanyak {n}: \")\n",
        "for y in range(0,n):\n",
        "    ym = 0\n",
        "    ym += float(input(\"\"))\n",
        "    yarr = np.append(yarr,ym)\n",
        "print(f\"Data Y yaitu: {yarr} \")\n",
        "\n",
        "xplt = np.linspace(xarr[0],xarr[-1])\n",
        "yplt = np.array([], float)\n",
        "\n",
        "for xp in xplt:\n",
        "    yp = 0\n",
        "    for xi, yi in zip(xarr,yarr):\n",
        "        yp += yi * np.prod((xp - xarr[xarr != xi])/(xi - xarr[xarr != xi]))\n",
        "    yplt = np.append(yplt,yp)\n",
        "\n",
        "xp = float(input(\"Masukkan titik interpolasi: \"))\n",
        "for i in range(len(x)):\n",
        "    yp = 0\n",
        "    for xi, yi in zip(x,y):\n",
        "        yp += yi * np.prod((xp - x[x != xi])/(xi - x[x != xi]))\n",
        "print(yp)\n",
        "\n",
        "plt.plot(xarr,yarr,'o',xplt,yplt,'b-')\n",
        "plt.plot(xp, yp, 'go')\n",
        "plt.xlabel('x')\n",
        "plt.ylabel('y')\n",
        "plt.grid()\n",
        "plt.show()"
      ],
      "metadata": {
        "id": "gCHJcUAX_SkK"
      },
      "execution_count": null,
      "outputs": []
    }
  ]
}