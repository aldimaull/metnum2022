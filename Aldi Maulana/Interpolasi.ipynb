{
 "cells": [
  {
   "cell_type": "markdown",
   "metadata": {},
   "source": [
    "# Interpolasi"
   ]
  },
  {
   "cell_type": "markdown",
   "metadata": {},
   "source": [
    "## Polinom Lagrange"
   ]
  },
  {
   "cell_type": "markdown",
   "metadata": {},
   "source": [
    "### Data Excel"
   ]
  },
  {
   "cell_type": "code",
   "execution_count": 29,
   "metadata": {},
   "outputs": [],
   "source": [
    "import numpy as np\n",
    "import matplotlib.pyplot as plt\n",
    "import pandas as pd\n",
    "import openpyxl as px\n",
    "\n",
    "def lagrange():\n",
    "    data = pd.read_excel('data_panda.xlsx')\n",
    "    print(\"Data yang akan diolah: \")\n",
    "    print(data)\n",
    "    print(\"\")\n",
    "\n",
    "    W = px.load_workbook('data_panda.xlsx')\n",
    "    p = W['Sheet1']\n",
    "\n",
    "    ab_range = len(data)\n",
    "    awal_data = 2\n",
    "\n",
    "    axl = [p['A%s'%i].value for i in range(0+awal_data,ab_range+awal_data)]\n",
    "    bxl = [p['B%s'%i].value for i in range(0+awal_data,ab_range+awal_data)]\n",
    "\n",
    "    axl_arr = np.array(axl)\n",
    "    bxl_arr = np.array(bxl)\n",
    "\n",
    "    xplt = np.linspace(axl_arr[0],axl_arr[-1])\n",
    "    yplt = np.array([], float)\n",
    "\n",
    "    for xp in xplt:\n",
    "        yp = 0\n",
    "        for xi, yi in zip(axl_arr,bxl_arr):\n",
    "            yp += yi * np.prod((xp - axl_arr[axl_arr != xi])/(xi - axl_arr[axl_arr != xi]))\n",
    "        yplt = np.append(yplt,yp)\n",
    "\n",
    "    xp = float(input(\"Masukkan titik interpolasi: \"))\n",
    "    for i in range(len(axl_arr)):\n",
    "        yp = 0\n",
    "        for xi, yi in zip(axl_arr,bxl_arr):\n",
    "            yp += yi * np.prod((xp - axl_arr[axl_arr != xi])/(xi - axl_arr[axl_arr != xi]))\n",
    "    \n",
    "    print(f\"Untuk titik X yang dinginkan, yaitu {xp}, maka nilai Y-nya, yaitu {yp}\")\n",
    "\n",
    "    print(\"Interpolasi\")\n",
    "    for m, n in zip(xplt, yplt):\n",
    "        print(\"Untuk X %.3f, Y = %.3f\" % (m, n))\n",
    "\n",
    "    # plot\n",
    "    plt.plot(axl_arr,bxl_arr,'ro',xplt,yplt,'b-')\n",
    "    plt.plot(xp, yp, 'go')\n",
    "    plt.xlabel('Data X')\n",
    "    plt.ylabel('Data Y')\n",
    "    plt.grid()\n",
    "    plt.show()\n",
    "\n",
    "    xdf = pd.DataFrame(yplt, xplt)\n",
    "    xdf.to_excel('data_panda_hasil.xlsx', sheet_name='Coba')\n",
    "\n",
    "# Panggil fungsi\n",
    "lagrange()"
   ]
  },
  {
   "cell_type": "markdown",
   "metadata": {},
   "source": [
    "### Hard-Code"
   ]
  },
  {
   "cell_type": "code",
   "execution_count": null,
   "metadata": {},
   "outputs": [],
   "source": [
    "import numpy as np\n",
    "import matplotlib.pyplot as plt\n",
    "\n",
    "# x = np.array([0, 0.4, 0.8], float)\n",
    "# y = np.array([1, 0.921061, 0.696707], float)\n",
    "x = np.array([5, 10, 15, 20, 25, 30, 35, 40], float)\n",
    "y = np.array([40, 30, 25, 40, 18, 20, 22, 15], float)\n",
    "\n",
    "xplt = np.linspace(x[0],x[-1])\n",
    "yplt = np.array([], float)\n",
    "\n",
    "for xp in xplt: # perulangan setiap data x di sepanjang xplt\n",
    "    yp = 0 # tampungan\n",
    "\n",
    "    for xi, yi in zip(x,y):\n",
    "        yp += yi * np.prod((xp - x[x != xi])/(xi - x[x != xi]))\n",
    "    yplt = np.append(yplt,yp)\n",
    "\n",
    "xp = float(input(\"Masukkan titik interpolasi: \"))\n",
    "for i in range(len(x)):\n",
    "    yp = 0\n",
    "    for xi, yi in zip(x,y):\n",
    "        yp += yi * np.prod((xp - x[x != xi])/(xi - x[x != xi]))\n",
    "print(yp)\n",
    "\n",
    "# plot\n",
    "plt.plot(x, y, \"o\", xplt,yplt,'b-')\n",
    "plt.plot(xp, yp, \"ro\")\n",
    "plt.xlabel('x')\n",
    "plt.ylabel('y')\n",
    "plt.grid()\n",
    "plt.show()"
   ]
  },
  {
   "cell_type": "markdown",
   "metadata": {},
   "source": [
    "### User Input"
   ]
  },
  {
   "cell_type": "code",
   "execution_count": null,
   "metadata": {},
   "outputs": [],
   "source": [
    "import numpy as np\n",
    "import matplotlib.pyplot as plt\n",
    "\n",
    "n = int(input(\"Masukkan banyak data X yang akan diolah: \"))\n",
    "\n",
    "xarr = np.array([],float)\n",
    "yarr = np.array([],float)\n",
    "\n",
    "print(f\"Masukkan data X sebanyak {n}: \")\n",
    "for x in range(0,n):\n",
    "    xm = 0\n",
    "    xm += float(input(\"\"))\n",
    "    xarr = np.append(xarr,xm)\n",
    "print(f\"Data X yaitu: {xarr} \")\n",
    "\n",
    "print(f\"Masukkan data Y sebanyak {n}: \")\n",
    "for y in range(0,n):\n",
    "    ym = 0\n",
    "    ym += float(input(\"\"))\n",
    "    yarr = np.append(yarr,ym)\n",
    "print(f\"Data Y yaitu: {yarr} \")\n",
    "\n",
    "xplt = np.linspace(xarr[0],xarr[-1])\n",
    "yplt = np.array([], float)\n",
    "\n",
    "for xp in xplt:\n",
    "    yp = 0\n",
    "    for xi, yi in zip(xarr,yarr):\n",
    "        yp += yi * np.prod((xp - xarr[xarr != xi])/(xi - xarr[xarr != xi]))\n",
    "    yplt = np.append(yplt,yp)\n",
    "\n",
    "xp = float(input(\"Masukkan titik interpolasi: \"))\n",
    "for i in range(len(x)):\n",
    "    yp = 0\n",
    "    for xi, yi in zip(x,y):\n",
    "        yp += yi * np.prod((xp - x[x != xi])/(xi - x[x != xi]))\n",
    "print(yp)\n",
    "\n",
    "plt.plot(xarr,yarr,'o',xplt,yplt,'b-')\n",
    "plt.plot(xp, yp, 'go')\n",
    "plt.xlabel('x')\n",
    "plt.ylabel('y')\n",
    "plt.grid()\n",
    "plt.show()"
   ]
  },
  {
   "cell_type": "markdown",
   "metadata": {},
   "source": [
    "## Polinom Newton"
   ]
  },
  {
   "cell_type": "code",
   "execution_count": 24,
   "metadata": {},
   "outputs": [
    {
     "data": {
      "image/png": "[encoded data removed]",
      "text/plain": [
       "<Figure size 921.6x633.6 with 1 Axes>"
      ]
     },
     "metadata": {
      "needs_background": "light"
     },
     "output_type": "display_data"
    }
   ],
   "source": [
    "import numpy as np\n",
    "import matplotlib.pyplot as plt\n",
    "\n",
    "x = np.array([0, 0.4, 0.8], float)\n",
    "y = np.array([1, 0.921061, 0.696707], float)\n",
    "\n",
    "xInput = 0.5\n",
    "\n",
    "n = len(x)-1\n",
    "\n",
    "ST = np.zeros((n+1,n+1))\n",
    "ST[:,0] = y\n",
    "\n",
    "for k in range(1, n+1):\n",
    "    for i in range(0, n-k+1):\n",
    "        ST[i,k] = (ST[i+1, k-1] - ST[i, k-1])/(x[i+k]-x[i])\n",
    "\n",
    "p = ST[0,0]\n",
    "for i in range(1,n+1):\n",
    "    a = ST[0,i]\n",
    "\n",
    "    for k in range(0,i):\n",
    "        a = a * (xInput - x[k])\n",
    "    p += a\n",
    "\n",
    "xplt = np.linspace(x[0],x[-1])\n",
    "\n",
    "plt.plot(x, y, \"o\")\n",
    "plt.xlabel('x')\n",
    "plt.ylabel('y')\n",
    "plt.grid()\n",
    "plt.show()"
   ]
  }
 ],
 "metadata": {
  "kernelspec": {
   "display_name": "Python 3.10.2 64-bit",
   "language": "python",
   "name": "python3"
  },
  "language_info": {
   "codemirror_mode": {
    "name": "ipython",
    "version": 3
   },
   "file_extension": ".py",
   "mimetype": "text/x-python",
   "name": "python",
   "nbconvert_exporter": "python",
   "pygments_lexer": "ipython3",
   "version": "3.10.2"
  },
  "orig_nbformat": 4,
  "vscode": {
   "interpreter": {
    "hash": "6edf1ef7ea38dd5b88dfa63cf938c3d3dde81204f66bb25122d16184e7b1b1c9"
   }
  }
 },
 "nbformat": 4,
 "nbformat_minor": 2
}
